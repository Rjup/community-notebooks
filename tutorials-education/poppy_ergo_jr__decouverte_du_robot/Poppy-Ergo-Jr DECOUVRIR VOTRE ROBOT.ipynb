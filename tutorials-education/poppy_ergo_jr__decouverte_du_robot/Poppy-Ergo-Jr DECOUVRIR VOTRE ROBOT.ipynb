{
 "cells": [
  {
   "cell_type": "markdown",
   "metadata": {},
   "source": [
    "Traduction du notebook Discover your Poppy Ergo Jr par Georges  Saliba sous [licence CC BY SA](https://creativecommons.org/licenses/by-nc-sa/3.0/fr/) "
   ]
  },
  {
   "cell_type": "markdown",
   "metadata": {},
   "source": [
    "# Découvrir votre Poppy Ergo Jr"
   ]
  },
  {
   "cell_type": "markdown",
   "metadata": {},
   "source": [
    "Ce notebook qui permet à la fois d'insérer du code pour faire fonctionner le robot et de le commenter dans le même temps, va vous guider pour apprendre à programmer le Poppy Ergo Jr en Python.\n",
    "\n",
    "1. Instancier votre robot\n",
    "2. Accéder aux moteurs et les commander\n",
    "3. Lire les valeurs des capteurs\n",
    "4. S'initier à de la programmation de plus haut niveau"
   ]
  },
  {
   "cell_type": "markdown",
   "metadata": {},
   "source": [
    "A partir de maintenant, votre robot Poppy Ergo Jr est connecté à l'aide du cable RJ 45 et votre caméra est aussi connectée."
   ]
  },
  {
   "cell_type": "code",
   "execution_count": null,
   "metadata": {
    "collapsed": false
   },
   "outputs": [],
   "source": [
    "%pylab inline\n",
    "\n",
    "from __future__ import print_function"
   ]
  },
  {
   "cell_type": "markdown",
   "metadata": {},
   "source": [
    "*% pylab inline* est une commande python qui importe les modules *numpy* et *matplotlib*. L'option *inline* indique que les figures *Matplotlib* seront insérées dans le notebook lui-même plutôt que dans une fenêtre graphique séparée. C'est la seule option possible car votre système ne dispose pas d'interface graphique. \n",
    "Elle exécute en particulier les deux intructions \n",
    "* import numpy as np\n",
    "* import matplotlib.pyplot as plt\n",
    "\n",
    "La dernière instruction importe du module *future* le sous module *print_function* qui permet de gérer les problèmes de compatibilité avec de futures versions de Python.\n",
    "\n"
   ]
  },
  {
   "cell_type": "markdown",
   "metadata": {},
   "source": [
    "## Instancier votre robot"
   ]
  },
  {
   "cell_type": "markdown",
   "metadata": {},
   "source": [
    "Pour commencer à utiliser votre robot en Python, vous devez tout d'abord l'instancier. \n",
    "C'est le rôle du code suivant. \n"
   ]
  },
  {
   "cell_type": "code",
   "execution_count": null,
   "metadata": {
    "collapsed": false
   },
   "outputs": [],
   "source": [
    "from poppy.creatures import PoppyErgoJr\n",
    "\n",
    "poppy = PoppyErgoJr()"
   ]
  },
  {
   "cell_type": "markdown",
   "metadata": {},
   "source": [
    "Cela crée un objet [Robot](http://poppy-project.github.io/pypot/pypot.robot.html#pypot.robot.robot.Robot) qui peut être utilisé pour accéder aux moteurs et aux capteurs. Il prend en chage toute la communication de bas niveau pour vous. Vous n'avez donc pas besoin de connaitre les détails du protocole de communication pour faire fonctionner un moteur. **Les champs *motors* et *sensors* du Robot sont automatiquement synchronisés pour correspondre à l'état de leurs équivalents matériels.**"
   ]
  },
  {
   "cell_type": "markdown",
   "metadata": {},
   "source": [
    "### QUESTIONS  \n",
    "1. Dans la ligne de code ci-dessus, quel est le rôle de poppy ? \n",
    "2. PoppyErgoJr() est suivi de parenthèses que devez-vous comprendre ? "
   ]
  },
  {
   "cell_type": "markdown",
   "metadata": {},
   "source": [
    "### COMPLETER  \n",
    "1. Le code ci-dessous permet de mettre le robot  ... dans la position appelée ... \n",
    "2. Si le robot avait été nommé *poppy_bras* et la position avait été *position_leve*, quelle instruction auriez-vous du envoyer au robot pour lui demander de se mettre dans cette position ? \n"
   ]
  },
  {
   "cell_type": "code",
   "execution_count": null,
   "metadata": {
    "collapsed": true
   },
   "outputs": [],
   "source": [
    "poppy.rest_posture.start()"
   ]
  },
  {
   "cell_type": "markdown",
   "metadata": {},
   "source": [
    "## Accéder aux moteurs"
   ]
  },
  {
   "cell_type": "markdown",
   "metadata": {},
   "source": [
    "Dans un Poppy Ergo Jr, le moteur est défini comme illustré ci-dessous :\n",
    "**Image à rajouter**"
   ]
  },
  {
   "cell_type": "markdown",
   "metadata": {},
   "source": [
    "A partir de l'objet [Robot](http://poppy-project.github.io/pypot/pypot.robot.html#pypot.robot.robot.Robot), vous pouvez récupérer directement la liste de tous les moteurs conectés à l'aide de l'instruction construite de la manière suivante :\n",
    "nom_du_conteneur_de_l_objet_robot.motors\n",
    "\n",
    "### QUESTIONS \n",
    "\n",
    "1. Quel est le nom du conteneur/variable qui représente votre robot ?\n",
    "2. L'instruction ci-dessous est-elle valide ? Si non, la corriger."
   ]
  },
  {
   "cell_type": "code",
   "execution_count": null,
   "metadata": {
    "collapsed": false
   },
   "outputs": [],
   "source": [
    "poppy_ergo_jr.motors"
   ]
  },
  {
   "cell_type": "markdown",
   "metadata": {},
   "source": [
    "Comme vous pouvez le constater, vous obtenez une liste de tous les moteurs de votre objet Robot. "
   ]
  },
  {
   "cell_type": "markdown",
   "metadata": {},
   "source": [
    "Vous pouvez alors récupérer tous les noms des moteurs "
   ]
  },
  {
   "cell_type": "markdown",
   "metadata": {},
   "source": [
    "En Python, une syntaxe possible de la boucle *pour* est la suivante : \n",
    "\n",
    "**for ** *itérateur* **in** *une_liste* ** : **\n",
    "\n",
    "    *corps de la boucle pour*\n",
    "    \n",
    " 1. Qui est le \"l'itérateur\" dans la boucle suivante ? Décrivez son fonctionnement.\n",
    " 2. Quelle est la liste ? Ecrivez-là de manière explicite. "
   ]
  },
  {
   "cell_type": "code",
   "execution_count": null,
   "metadata": {
    "collapsed": false
   },
   "outputs": [],
   "source": [
    "for m in poppy.motors:\n",
    "    print(m.name)\n",
    "#print (\"terminé\")"
   ]
  },
  {
   "cell_type": "markdown",
   "metadata": {},
   "source": [
    "**TRAVAIL : **\n",
    "\n",
    "* Si dans la dernière ligne, on supprime le caractère #, l'instruction print(\"terminé\") sera éxécutée. Combien de fois sera affichée la chaine de caractères \"terminé\" ? \n",
    "\n",
    "Les instructions répétées dans la boucle doivent avoir la même indentation ou être dans une structure qui est au même niveau d'indentation.\n",
    "\n",
    "* Faites en sorte que \"terminé\" soit affiché à la suite du nom de chaque moteur."
   ]
  },
  {
   "cell_type": "markdown",
   "metadata": {},
   "source": [
    " On peut aussi appeler chacun des moteurs par son nom (m1,m2,etc.) à l'aide l'instruction **contenur_du_robot.nom_du_moteur**\n",
    " comme dans l'exemple ci-dessous.\n",
    " "
   ]
  },
  {
   "cell_type": "code",
   "execution_count": null,
   "metadata": {
    "collapsed": false
   },
   "outputs": [],
   "source": [
    "poppy.m1\n"
   ]
  },
  {
   "cell_type": "markdown",
   "metadata": {},
   "source": [
    "## Lire les valeurs des moteurs "
   ]
  },
  {
   "cell_type": "markdown",
   "metadata": {},
   "source": [
    "A partir de l'objet moteur vous pouvez accéder à ses divers registres. Les principaux sont :\n",
    "\n",
    "* **present_position**: retourne la position courante du moteur en degrés\n",
    "* **present_speed**: la vitesse courante du moteur en degrés par seconde\n",
    "* **present_load**: la charge de travail du moteur (en pourcentage de la charge maximale)\n",
    "* **present_temperature**: la température du moteur en degrés celsius\n",
    "* **angle_limit**: les limites atteignables du moteur (en degrés)\n",
    "\n",
    "Ils sont accessibles directement.\n",
    "\n",
    "Syntaxe possible : **nom_du_robot.nom_du_moteur.registre**"
   ]
  },
  {
   "cell_type": "markdown",
   "metadata": {},
   "source": [
    "### QUESTION \n",
    "\n",
    "Dans l'instruction suivante, quel registre de quel moteur de quel robot est demandé ? Que doit retourner cette instruction ?"
   ]
  },
  {
   "cell_type": "code",
   "execution_count": null,
   "metadata": {
    "collapsed": false
   },
   "outputs": [],
   "source": [
    "poppy.m1.present_position"
   ]
  },
  {
   "cell_type": "markdown",
   "metadata": {},
   "source": [
    "On peut avoir la position courante de tous les moteurs à l'aide de l'instruction ci-dessous. \n",
    "\n",
    "### QUESTIONS \n",
    "1. Pourquoui a-t-on des crochets ? \n",
    "2. Quelles sont toutes les valeurs que va prendre l'itérateur *m* ? \n",
    "3. Quelle est la structure de poppy.motors ? "
   ]
  },
  {
   "cell_type": "code",
   "execution_count": null,
   "metadata": {
    "collapsed": false
   },
   "outputs": [],
   "source": [
    "[m.present_position for m in poppy.motors]"
   ]
  },
  {
   "cell_type": "markdown",
   "metadata": {},
   "source": [
    "Il est important de comprendre que **\"poppy.m1.present_position\" est automatiquement mis à jour** avec la position courante du moteur réel (à 50Hz).\n",
    "Comme pour les autres registres, la fréquence de mise à jour n'est pas la même et dépend de son importance. Par exemple, la température est rafraichie à 1Hz puisqu'elle ne varie pas très vite. "
   ]
  },
  {
   "cell_type": "markdown",
   "metadata": {},
   "source": [
    "## Remarque \n",
    "Lorsque vous appuyez sur la touche tabulation après avoir mis un **.**, vous pouvez voir la liste des registres pour un objet. \n",
    "Essayez dans la cellule de code suivante et observez.\n",
    "\n",
    "Vous n'avez donc pas besoin de retenir les divers registres existants ni leurs noms.\n"
   ]
  },
  {
   "cell_type": "code",
   "execution_count": null,
   "metadata": {
    "collapsed": true
   },
   "outputs": [],
   "source": [
    "poppy."
   ]
  },
  {
   "cell_type": "markdown",
   "metadata": {},
   "source": [
    "## Commander les moteurs"
   ]
  },
  {
   "cell_type": "markdown",
   "metadata": {},
   "source": [
    "Au début des registres présentés précédemment, il y en a d'autres utilisés pour envoyer des instructions/commandes au robot. Par exemple, la position des moteurs est séparée en deux registres distincts.\n",
    "\n",
    "* En lecture seulement **present_position** du moteur\n",
    "* En lecture et écriture **goal_position** qui envoie au moteur une position cible qu'il va essayer d'atteindre.\n",
    "\n",
    "Pour mettre un moteur dans une nouvelle position, vous pouvez écrire : "
   ]
  },
  {
   "cell_type": "code",
   "execution_count": null,
   "metadata": {
    "collapsed": false
   },
   "outputs": [],
   "source": [
    "poppy.m1.goal_position = 20"
   ]
  },
  {
   "cell_type": "markdown",
   "metadata": {},
   "source": [
    "### QUESTIONS  \n",
    "1. Quel effet va avoir l'intruction ci-dessus ? \n",
    "2. En quelle unité est exprimé 20 ? \n",
    "3. Comment faire pour que le moteur tourne dans l'autre sens de la même manière ? "
   ]
  },
  {
   "cell_type": "code",
   "execution_count": null,
   "metadata": {
    "collapsed": true
   },
   "outputs": [],
   "source": [
    "#COMPLETER\n",
    "poppy.m1.goal_position = "
   ]
  },
  {
   "cell_type": "markdown",
   "metadata": {},
   "source": [
    "Dans ces exemples, le moteur tourne aussi vite que possible (c'est le fonctionnement par défaut). Vous pouvez changer la vitesse maximale du moteur qui est enregistrée dans le registre moving_speed du moteur :"
   ]
  },
  {
   "cell_type": "code",
   "execution_count": null,
   "metadata": {
    "collapsed": true
   },
   "outputs": [],
   "source": [
    "#COMPLETER : pour mettre le registre moving_speed du moteur m1 de votre robot poppy à 50\n",
    "poppy.                 =50"
   ]
  },
  {
   "cell_type": "markdown",
   "metadata": {},
   "source": [
    "Maintenant le moteur *m1* ne peut pas aller plus vite que 50 degrés par seconde. Faites le se déplacer une nouvelle fois pour constater la différence."
   ]
  },
  {
   "cell_type": "code",
   "execution_count": null,
   "metadata": {
    "collapsed": true
   },
   "outputs": [],
   "source": [
    "poppy.m1.goal_position = 90"
   ]
  },
  {
   "cell_type": "markdown",
   "metadata": {},
   "source": [
    "Les principaux registres sont : \n",
    "\n",
    "* **goal_position** : position cible en degrés\n",
    "* **moving_speed** : la vitesse maximale atteignable en degrés par seconde\n",
    "* **compliant** : expliqué ci-après"
   ]
  },
  {
   "cell_type": "markdown",
   "metadata": {},
   "source": [
    "Les servo moteurs dynamixel ont deux modes : \n",
    "\n",
    "* **stiff** : le mode normal des moteurs dans lequel ils peuvent être controlés.\n",
    "* **compliant** : un mode dans lequel les moteurs peuvent être bougés librement à la main. Ce mode est particulièrement utile lors d'interactions physiques humain-robot.\n",
    "\n",
    "Vous pouvez les faire passer d'un mode à l'autre en utilisant le registre *compliant*. Ce registre ne pouvant être associé qu'à deux valeurs, c'est un booléen qui ne peut prendre que les valeurs *True* et *False*.\n",
    "Vous pouvez par exemple mettre le moteur *m6* en mode compliant via : "
   ]
  },
  {
   "cell_type": "code",
   "execution_count": null,
   "metadata": {
    "collapsed": true
   },
   "outputs": [],
   "source": [
    "poppy.m6.compliant = True"
   ]
  },
  {
   "cell_type": "markdown",
   "metadata": {},
   "source": [
    "Vous pouvez normalement faire bouger ce moteur à la main. Par exemple, cela vous sera utile pour programmer votre robot par démonstration (cf. notebook correspondant)."
   ]
  },
  {
   "cell_type": "markdown",
   "metadata": {},
   "source": [
    "Et le remettre en mode *stiff* :"
   ]
  },
  {
   "cell_type": "code",
   "execution_count": null,
   "metadata": {
    "collapsed": true
   },
   "outputs": [],
   "source": [
    "poppy.m6.compliant = False"
   ]
  },
  {
   "cell_type": "markdown",
   "metadata": {},
   "source": [
    "## Contrôler les LED des moteurs"
   ]
  },
  {
   "cell_type": "markdown",
   "metadata": {},
   "source": [
    "Les moteurs XL-320 motors utilisés dans le Poppy Ergo Jr ont un petite LED de couleur. Vous pouvez changer sa couleur en utilisant *pypot*. C'est utile pour rendre votre robot plus vivant, customisé ... \n",
    "Chaque moteur possède un registre *led* auquel on peut affecter un couleur *'green'*, *'red'* parmi les couleurs disponibles.\n",
    "\n",
    "### QUESTION  \n",
    "Comment faire pour que la *led* du moteur *m3* du robot *poppy* soit verte ?"
   ]
  },
  {
   "cell_type": "code",
   "execution_count": null,
   "metadata": {
    "collapsed": true
   },
   "outputs": [],
   "source": []
  },
  {
   "cell_type": "markdown",
   "metadata": {},
   "source": [
    "En affectant la valeur *'off'* à ce registre on éteint cette led.\n",
    "\n",
    "### QUESTION\n",
    "\n",
    "Eteindre la *led* du moteur *m3* du robot *poppy*."
   ]
  },
  {
   "cell_type": "code",
   "execution_count": null,
   "metadata": {
    "collapsed": true
   },
   "outputs": [],
   "source": []
  },
  {
   "cell_type": "markdown",
   "metadata": {},
   "source": [
    "### QUESTION \n",
    "1. Avant de le lancer, pouvez-vous décrire l'effet de ce jeu d'instructions ?\n",
    "2. Comment faire pour allumer une led sur deux en rouge et une led sur deux en vert dans cet ordre ?\n",
    "En Python la syntaxe du *si ... alors ... sinon ... * est la suivante : \n",
    "\n",
    "if (condition) : \n",
    "\n",
    "     instructions du alors \n",
    "\n",
    "else :  \n",
    "\n",
    "     instructions du sinon \n",
    "\n",
    "suite des instructions du programme ...\n",
    "\n",
    "**C'est l'indentation qui structure le programme.**\n"
   ]
  },
  {
   "cell_type": "code",
   "execution_count": null,
   "metadata": {
    "collapsed": true
   },
   "outputs": [],
   "source": [
    "import time\n",
    "\n",
    "for m in poppy.motors:\n",
    "    time.sleep(0.5)\n",
    "    m.led = 'yellow'\n",
    "    time.sleep(1.0)\n",
    "    m.led = 'off'"
   ]
  },
  {
   "cell_type": "markdown",
   "metadata": {},
   "source": [
    "Vous pouvez connaitre toutes les couleurs disponibles à l'aide la commande suivante :"
   ]
  },
  {
   "cell_type": "code",
   "execution_count": null,
   "metadata": {
    "collapsed": false
   },
   "outputs": [],
   "source": [
    "from pypot.dynamixel.conversion import XL320LEDColors\n",
    "\n",
    "print(list(XL320LEDColors))"
   ]
  },
  {
   "cell_type": "markdown",
   "metadata": {},
   "source": [
    "## Lire des capteurs/sensors"
   ]
  },
  {
   "cell_type": "code",
   "execution_count": null,
   "metadata": {
    "collapsed": false
   },
   "outputs": [],
   "source": [
    "import cv2\n",
    "# pour utiliser la caméra\n",
    "%matplotlib inline\n",
    "import matplotlib.pyplot as plt\n",
    "from hampy import detect_markers\n",
    "# pour détecter des marqueurs\n",
    "\n",
    "img = poppy.camera.frame\n",
    "plt.imshow(img)\n",
    "# Que contient le conteneur img ? \n",
    "# Que signifie plt.imshow(img) par quelle autre commande peut-on le remplacer ?  "
   ]
  },
  {
   "cell_type": "markdown",
   "metadata": {},
   "source": [
    "Lire des capteurs se fait exactement de la même manière que lire des registres de votre robot. Vous pouvez accéder à vos capteurs via : "
   ]
  },
  {
   "cell_type": "code",
   "execution_count": null,
   "metadata": {
    "collapsed": false
   },
   "outputs": [],
   "source": [
    "poppy.sensors"
   ]
  },
  {
   "cell_type": "markdown",
   "metadata": {},
   "source": [
    "Ici, nous avons 2 capteurs : \n",
    "* **une caméra**\n",
    "* **un détecteur de marqueur**\n",
    "\n",
    "Vous pouvez y accéder via leur nom : \n"
   ]
  },
  {
   "cell_type": "code",
   "execution_count": null,
   "metadata": {
    "collapsed": false
   },
   "outputs": [],
   "source": [
    "poppy.camera"
   ]
  },
  {
   "cell_type": "markdown",
   "metadata": {},
   "source": [
    "Vous pouvez récupérer tous les registres existants d'un capteur : "
   ]
  },
  {
   "cell_type": "code",
   "execution_count": null,
   "metadata": {
    "collapsed": false
   },
   "outputs": [],
   "source": [
    "poppy.camera.registers"
   ]
  },
  {
   "cell_type": "markdown",
   "metadata": {},
   "source": [
    "et recupérer et afficher une image à partir de la caméra :\n",
    "\n",
    "Les deux premières lignes suivantes permettent d'importer la bibliothèque qui gère l'image.\n",
    "\n",
    "*img* est un conteneur qui contient l'image récupérée par la caméra du poppy.\n",
    "\n",
    "La ligne 4 permet d'afficher l'image contenue dans le conteneur *img*.\n"
   ]
  },
  {
   "cell_type": "code",
   "execution_count": null,
   "metadata": {
    "collapsed": false
   },
   "outputs": [],
   "source": [
    "%matplotlib inline\n",
    "import matplotlib.pyplot as plt\n",
    "img = poppy.camera.frame\n",
    "plt.imshow(img)"
   ]
  },
  {
   "cell_type": "markdown",
   "metadata": {},
   "source": [
    "Comme pour les moteurs, les valeurs des capteurs sont automatiquement synchronisées en arrière plan avec le capteur physique. Si vous exécutez une nouvelle fois les instructions précédentes, vous obtiendrez une image plus récente."
   ]
  },
  {
   "cell_type": "code",
   "execution_count": null,
   "metadata": {
    "collapsed": false
   },
   "outputs": [],
   "source": [
    "plt.imshow(poppy.camera.frame)"
   ]
  },
  {
   "cell_type": "markdown",
   "metadata": {},
   "source": [
    "## Comportements de haut niveau"
   ]
  },
  {
   "cell_type": "markdown",
   "metadata": {},
   "source": [
    "Le robot Poppy Ergo Jr intègre un jeu de comportements prédéfinis. Il peut s'agir de postures spécifiques comme la posture de repos - rest_posture utilisée au début - ou d'une danse, ..."
   ]
  },
  {
   "cell_type": "markdown",
   "metadata": {},
   "source": [
    "Vous pouvez en trouver la liste exhaustive en utilisant l'instruction suivante qui liste les *primitives* ou *comportements* : \n"
   ]
  },
  {
   "cell_type": "code",
   "execution_count": null,
   "metadata": {
    "collapsed": false
   },
   "outputs": [],
   "source": [
    "[p.name for p in poppy.primitives]"
   ]
  },
  {
   "cell_type": "markdown",
   "metadata": {},
   "source": [
    "Ces comportements (ou primitives en \"terminologie poppy\") peuvent être démarrés, arrétés, mis en pause, etc. "
   ]
  },
  {
   "cell_type": "code",
   "execution_count": null,
   "metadata": {
    "collapsed": true
   },
   "outputs": [],
   "source": [
    "poppy.tetris_posture.start()"
   ]
  },
  {
   "cell_type": "markdown",
   "metadata": {},
   "source": [
    "Vous pouvez faire danser le Poppy Ergo Jr pendant 10 secondes :"
   ]
  },
  {
   "cell_type": "code",
   "execution_count": null,
   "metadata": {
    "collapsed": true
   },
   "outputs": [],
   "source": [
    "import time\n",
    "\n",
    "poppy.dance.start()\n",
    "time.sleep(10)\n",
    "poppy.dance.stop()"
   ]
  },
  {
   "cell_type": "markdown",
   "metadata": {},
   "source": [
    "## Pour aller plus loin \n",
    "\n",
    "Maintenant que vous avez appris les bases de ce que vous pouvez faire avec un Poppy Ergo Jr, il y a encore plus à découvrir : \n",
    "\n",
    "* Comment enregistrer et rejouer un mouvement par démonstration ?\n",
    "* Comment définir un comportement de haut niveau (utiliser des marqueurs visuels associés à des actions) ?\n",
    "* Comment utiliser Poppy Ergo Jr comme objet connecté et le faire communiquer avec le reste du monde en utilisant des requêtes http ?\n",
    "* ...\n",
    "\n",
    "Vous pouvez trouver d'autres exemples dans la [doc](http://docs.poppy-project.org) ou dans le dossier notebook suivant."
   ]
  },
  {
   "cell_type": "code",
   "execution_count": null,
   "metadata": {
    "collapsed": true
   },
   "outputs": [],
   "source": []
  }
 ],
 "metadata": {
  "anaconda-cloud": {},
  "kernelspec": {
   "display_name": "Python [default]",
   "language": "python",
   "name": "python2"
  },
  "language_info": {
   "codemirror_mode": {
    "name": "ipython",
    "version": 2
   },
   "file_extension": ".py",
   "mimetype": "text/x-python",
   "name": "python",
   "nbconvert_exporter": "python",
   "pygments_lexer": "ipython2",
   "version": "2.7.13"
  }
 },
 "nbformat": 4,
 "nbformat_minor": 0
}
